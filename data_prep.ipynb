{
 "cells": [
  {
   "cell_type": "code",
   "execution_count": 2,
   "id": "efebee16-84f3-4b8f-b49a-881eabe45706",
   "metadata": {},
   "outputs": [],
   "source": [
    "import pandas as pd\n",
    "import numpy as np\n",
    "from glob import glob"
   ]
  },
  {
   "cell_type": "code",
   "execution_count": null,
   "id": "ae3f4ea2-483d-4ff2-b338-6e2697ed62fe",
   "metadata": {},
   "outputs": [],
   "source": [
    "#get list of all data files\n",
    "data_files = sorted(glob('processed_data/*.csv'))\n",
    "data_files"
   ]
  },
  {
   "cell_type": "code",
   "execution_count": null,
   "id": "07c28081-4402-44e3-99fb-425c1ddb4773",
   "metadata": {},
   "outputs": [],
   "source": [
    "#merge datafiles\n",
    "data = pd.concat((pd.read_csv(file) for file in data_files), ignore_index=True)"
   ]
  },
  {
   "cell_type": "code",
   "execution_count": null,
   "id": "eb7a6c4e-0a7d-46af-a64a-f7ce67748699",
   "metadata": {},
   "outputs": [],
   "source": [
    "data.columns"
   ]
  },
  {
   "cell_type": "code",
   "execution_count": null,
   "id": "2bfde74e-e2bf-4d2b-b93a-deef15be7028",
   "metadata": {},
   "outputs": [],
   "source": [
    "df = data.drop(['Unnamed: 11', 'station_id', 'Unnamed: 12', 'Unnamed: 13'], axis=1)\n",
    "df.head(5)"
   ]
  },
  {
   "cell_type": "code",
   "execution_count": null,
   "id": "32a35b3d-3ac6-44a6-9e90-2ea95ea669ee",
   "metadata": {},
   "outputs": [],
   "source": [
    "df.shape"
   ]
  },
  {
   "cell_type": "code",
   "execution_count": null,
   "id": "990d6ee1-7752-4b7f-a03d-cf4f3a806019",
   "metadata": {
    "collapsed": true,
    "jupyter": {
     "outputs_hidden": true,
     "source_hidden": true
    },
    "tags": []
   },
   "outputs": [],
   "source": [
    "# Percentage of NAN Values \n",
    "missing_values = [(c, df[c].isna().mean()*100) for c in df]\n",
    "missing_values = pd.DataFrame(missing_values, columns=[\"column_name\", \"percentage\"])\n",
    "missing_values"
   ]
  },
  {
   "cell_type": "code",
   "execution_count": null,
   "id": "65006502-14b4-42ed-9653-58ccacf3a6f0",
   "metadata": {
    "tags": []
   },
   "outputs": [],
   "source": [
    "df.isnull().sum()"
   ]
  },
  {
   "cell_type": "code",
   "execution_count": null,
   "id": "e76741b7-04f0-4677-90ec-bda43a9be9c2",
   "metadata": {},
   "outputs": [],
   "source": [
    "#drop missing values\n",
    "df.dropna(axis=0, inplace=True)"
   ]
  },
  {
   "cell_type": "code",
   "execution_count": null,
   "id": "80b1677b-cec4-4c15-b0e1-72ed1817ce47",
   "metadata": {
    "tags": []
   },
   "outputs": [],
   "source": [
    "df.isnull().sum()"
   ]
  },
  {
   "cell_type": "code",
   "execution_count": null,
   "id": "b3a0ee07-69e6-4a10-b28e-777492c2739a",
   "metadata": {},
   "outputs": [],
   "source": [
    "#identify duplicate rows\n",
    "duplicateRows = df[df.duplicated()]\n",
    "duplicateRows"
   ]
  },
  {
   "cell_type": "code",
   "execution_count": null,
   "id": "6ee43d33-932f-4a64-82e7-511d1d9272b7",
   "metadata": {},
   "outputs": [],
   "source": [
    "df.shape"
   ]
  },
  {
   "cell_type": "code",
   "execution_count": null,
   "id": "f5187ecf-3d3b-45ef-a985-892d54beb1c8",
   "metadata": {},
   "outputs": [],
   "source": [
    "df.info()"
   ]
  },
  {
   "cell_type": "code",
   "execution_count": null,
   "id": "3a833d87-9ce4-4bdb-8ea4-231d03abcc00",
   "metadata": {},
   "outputs": [],
   "source": [
    "#save merged dataset\n",
    "df.to_csv('data/data_merged.csv', index=False)"
   ]
  },
  {
   "cell_type": "markdown",
   "id": "cb6b92ac",
   "metadata": {},
   "source": [
    "## Data Cleaning and Feature Engineering"
   ]
  },
  {
   "cell_type": "code",
   "execution_count": 3,
   "id": "bae77aa9",
   "metadata": {},
   "outputs": [
    {
     "name": "stderr",
     "output_type": "stream",
     "text": [
      "C:\\Users\\Azhar\\miniconda3\\envs\\dev\\lib\\site-packages\\IPython\\core\\interactiveshell.py:3170: DtypeWarning: Columns (8,9) have mixed types.Specify dtype option on import or set low_memory=False.\n",
      "  interactivity=interactivity, compiler=compiler, result=result)\n"
     ]
    },
    {
     "data": {
      "text/html": [
       "<div>\n",
       "<style scoped>\n",
       "    .dataframe tbody tr th:only-of-type {\n",
       "        vertical-align: middle;\n",
       "    }\n",
       "\n",
       "    .dataframe tbody tr th {\n",
       "        vertical-align: top;\n",
       "    }\n",
       "\n",
       "    .dataframe thead th {\n",
       "        text-align: right;\n",
       "    }\n",
       "</style>\n",
       "<table border=\"1\" class=\"dataframe\">\n",
       "  <thead>\n",
       "    <tr style=\"text-align: right;\">\n",
       "      <th></th>\n",
       "      <th>ride_id</th>\n",
       "      <th>rideable_type</th>\n",
       "      <th>started_at</th>\n",
       "      <th>ended_at</th>\n",
       "      <th>start_station_name</th>\n",
       "      <th>end_station_name</th>\n",
       "      <th>member_casual</th>\n",
       "      <th>day_of_week</th>\n",
       "      <th>start_station_id</th>\n",
       "      <th>end_station_id</th>\n",
       "    </tr>\n",
       "  </thead>\n",
       "  <tbody>\n",
       "    <tr>\n",
       "      <th>0</th>\n",
       "      <td>CFA86D4455AA1030</td>\n",
       "      <td>classic_bike</td>\n",
       "      <td>3/16/2021 8:32</td>\n",
       "      <td>3/16/2021 8:36</td>\n",
       "      <td>Humboldt Blvd &amp; Armitage Ave</td>\n",
       "      <td>Stave St &amp; Armitage Ave</td>\n",
       "      <td>casual</td>\n",
       "      <td>3</td>\n",
       "      <td>15651</td>\n",
       "      <td>13266</td>\n",
       "    </tr>\n",
       "    <tr>\n",
       "      <th>1</th>\n",
       "      <td>30D9DC61227D1AF3</td>\n",
       "      <td>classic_bike</td>\n",
       "      <td>3/28/2021 1:26</td>\n",
       "      <td>3/28/2021 1:36</td>\n",
       "      <td>Humboldt Blvd &amp; Armitage Ave</td>\n",
       "      <td>Central Park Ave &amp; Bloomingdale Ave</td>\n",
       "      <td>casual</td>\n",
       "      <td>1</td>\n",
       "      <td>15651</td>\n",
       "      <td>18017</td>\n",
       "    </tr>\n",
       "    <tr>\n",
       "      <th>2</th>\n",
       "      <td>846D87A15682A284</td>\n",
       "      <td>classic_bike</td>\n",
       "      <td>3/11/2021 21:17</td>\n",
       "      <td>3/11/2021 21:33</td>\n",
       "      <td>Shields Ave &amp; 28th Pl</td>\n",
       "      <td>Halsted St &amp; 35th St</td>\n",
       "      <td>casual</td>\n",
       "      <td>5</td>\n",
       "      <td>15443</td>\n",
       "      <td>13080</td>\n",
       "    </tr>\n",
       "    <tr>\n",
       "      <th>3</th>\n",
       "      <td>994D05AA75A168F2</td>\n",
       "      <td>classic_bike</td>\n",
       "      <td>3/11/2021 13:26</td>\n",
       "      <td>3/11/2021 13:55</td>\n",
       "      <td>Winthrop Ave &amp; Lawrence Ave</td>\n",
       "      <td>Broadway &amp; Sheridan Rd</td>\n",
       "      <td>casual</td>\n",
       "      <td>5</td>\n",
       "      <td>13080</td>\n",
       "      <td>13323</td>\n",
       "    </tr>\n",
       "    <tr>\n",
       "      <th>4</th>\n",
       "      <td>DF7464FBE92D8308</td>\n",
       "      <td>classic_bike</td>\n",
       "      <td>3/21/2021 9:09</td>\n",
       "      <td>3/21/2021 9:27</td>\n",
       "      <td>Glenwood Ave &amp; Touhy Ave</td>\n",
       "      <td>Chicago Ave &amp; Sheridan Rd</td>\n",
       "      <td>casual</td>\n",
       "      <td>1</td>\n",
       "      <td>525</td>\n",
       "      <td>8</td>\n",
       "    </tr>\n",
       "  </tbody>\n",
       "</table>\n",
       "</div>"
      ],
      "text/plain": [
       "            ride_id rideable_type       started_at         ended_at  \\\n",
       "0  CFA86D4455AA1030  classic_bike   3/16/2021 8:32   3/16/2021 8:36   \n",
       "1  30D9DC61227D1AF3  classic_bike   3/28/2021 1:26   3/28/2021 1:36   \n",
       "2  846D87A15682A284  classic_bike  3/11/2021 21:17  3/11/2021 21:33   \n",
       "3  994D05AA75A168F2  classic_bike  3/11/2021 13:26  3/11/2021 13:55   \n",
       "4  DF7464FBE92D8308  classic_bike   3/21/2021 9:09   3/21/2021 9:27   \n",
       "\n",
       "             start_station_name                     end_station_name  \\\n",
       "0  Humboldt Blvd & Armitage Ave              Stave St & Armitage Ave   \n",
       "1  Humboldt Blvd & Armitage Ave  Central Park Ave & Bloomingdale Ave   \n",
       "2         Shields Ave & 28th Pl                 Halsted St & 35th St   \n",
       "3   Winthrop Ave & Lawrence Ave               Broadway & Sheridan Rd   \n",
       "4      Glenwood Ave & Touhy Ave            Chicago Ave & Sheridan Rd   \n",
       "\n",
       "  member_casual  day_of_week start_station_id end_station_id  \n",
       "0        casual            3            15651          13266  \n",
       "1        casual            1            15651          18017  \n",
       "2        casual            5            15443          13080  \n",
       "3        casual            5            13080          13323  \n",
       "4        casual            1              525              8  "
      ]
     },
     "execution_count": 3,
     "metadata": {},
     "output_type": "execute_result"
    }
   ],
   "source": [
    "# read merged data\n",
    "df_merged =  pd.read_csv('processed_data/data_merged.csv')\n",
    "df_merged.head()"
   ]
  },
  {
   "cell_type": "code",
   "execution_count": 4,
   "id": "c1ac2f69",
   "metadata": {},
   "outputs": [
    {
     "data": {
      "text/plain": [
       "ride_id               object\n",
       "rideable_type         object\n",
       "started_at            object\n",
       "ended_at              object\n",
       "start_station_name    object\n",
       "end_station_name      object\n",
       "member_casual         object\n",
       "day_of_week            int64\n",
       "start_station_id      object\n",
       "end_station_id        object\n",
       "dtype: object"
      ]
     },
     "execution_count": 4,
     "metadata": {},
     "output_type": "execute_result"
    }
   ],
   "source": [
    "df_merged.dtypes"
   ]
  },
  {
   "cell_type": "markdown",
   "id": "289637fc",
   "metadata": {},
   "source": [
    "### Change data types"
   ]
  },
  {
   "cell_type": "code",
   "execution_count": 6,
   "id": "39657df5",
   "metadata": {},
   "outputs": [],
   "source": [
    "df_merged['day_of_week'] = pd.to_numeric(df_merged.day_of_week)\n",
    "df_merged['started_at'] = pd.to_datetime(df_merged['started_at'], infer_datetime_format=True)\n",
    "df_merged['ended_at'] = pd.to_datetime(df_merged['ended_at'], infer_datetime_format=True)\n",
    "df_merged['ride_duration'] = df_merged.ended_at - df_merged.started_at"
   ]
  },
  {
   "cell_type": "code",
   "execution_count": 7,
   "id": "7399b033",
   "metadata": {},
   "outputs": [
    {
     "data": {
      "text/html": [
       "<div>\n",
       "<style scoped>\n",
       "    .dataframe tbody tr th:only-of-type {\n",
       "        vertical-align: middle;\n",
       "    }\n",
       "\n",
       "    .dataframe tbody tr th {\n",
       "        vertical-align: top;\n",
       "    }\n",
       "\n",
       "    .dataframe thead th {\n",
       "        text-align: right;\n",
       "    }\n",
       "</style>\n",
       "<table border=\"1\" class=\"dataframe\">\n",
       "  <thead>\n",
       "    <tr style=\"text-align: right;\">\n",
       "      <th></th>\n",
       "      <th>ride_id</th>\n",
       "      <th>rideable_type</th>\n",
       "      <th>started_at</th>\n",
       "      <th>ended_at</th>\n",
       "      <th>start_station_name</th>\n",
       "      <th>end_station_name</th>\n",
       "      <th>member_casual</th>\n",
       "      <th>day_of_week</th>\n",
       "      <th>start_station_id</th>\n",
       "      <th>end_station_id</th>\n",
       "      <th>ride_duration</th>\n",
       "    </tr>\n",
       "  </thead>\n",
       "  <tbody>\n",
       "    <tr>\n",
       "      <th>0</th>\n",
       "      <td>CFA86D4455AA1030</td>\n",
       "      <td>classic_bike</td>\n",
       "      <td>2021-03-16 08:32:00</td>\n",
       "      <td>2021-03-16 08:36:00</td>\n",
       "      <td>Humboldt Blvd &amp; Armitage Ave</td>\n",
       "      <td>Stave St &amp; Armitage Ave</td>\n",
       "      <td>casual</td>\n",
       "      <td>3</td>\n",
       "      <td>15651</td>\n",
       "      <td>13266</td>\n",
       "      <td>0 days 00:04:00</td>\n",
       "    </tr>\n",
       "    <tr>\n",
       "      <th>1</th>\n",
       "      <td>30D9DC61227D1AF3</td>\n",
       "      <td>classic_bike</td>\n",
       "      <td>2021-03-28 01:26:00</td>\n",
       "      <td>2021-03-28 01:36:00</td>\n",
       "      <td>Humboldt Blvd &amp; Armitage Ave</td>\n",
       "      <td>Central Park Ave &amp; Bloomingdale Ave</td>\n",
       "      <td>casual</td>\n",
       "      <td>1</td>\n",
       "      <td>15651</td>\n",
       "      <td>18017</td>\n",
       "      <td>0 days 00:10:00</td>\n",
       "    </tr>\n",
       "    <tr>\n",
       "      <th>2</th>\n",
       "      <td>846D87A15682A284</td>\n",
       "      <td>classic_bike</td>\n",
       "      <td>2021-03-11 21:17:00</td>\n",
       "      <td>2021-03-11 21:33:00</td>\n",
       "      <td>Shields Ave &amp; 28th Pl</td>\n",
       "      <td>Halsted St &amp; 35th St</td>\n",
       "      <td>casual</td>\n",
       "      <td>5</td>\n",
       "      <td>15443</td>\n",
       "      <td>13080</td>\n",
       "      <td>0 days 00:16:00</td>\n",
       "    </tr>\n",
       "    <tr>\n",
       "      <th>3</th>\n",
       "      <td>994D05AA75A168F2</td>\n",
       "      <td>classic_bike</td>\n",
       "      <td>2021-03-11 13:26:00</td>\n",
       "      <td>2021-03-11 13:55:00</td>\n",
       "      <td>Winthrop Ave &amp; Lawrence Ave</td>\n",
       "      <td>Broadway &amp; Sheridan Rd</td>\n",
       "      <td>casual</td>\n",
       "      <td>5</td>\n",
       "      <td>13080</td>\n",
       "      <td>13323</td>\n",
       "      <td>0 days 00:29:00</td>\n",
       "    </tr>\n",
       "    <tr>\n",
       "      <th>4</th>\n",
       "      <td>DF7464FBE92D8308</td>\n",
       "      <td>classic_bike</td>\n",
       "      <td>2021-03-21 09:09:00</td>\n",
       "      <td>2021-03-21 09:27:00</td>\n",
       "      <td>Glenwood Ave &amp; Touhy Ave</td>\n",
       "      <td>Chicago Ave &amp; Sheridan Rd</td>\n",
       "      <td>casual</td>\n",
       "      <td>1</td>\n",
       "      <td>525</td>\n",
       "      <td>8</td>\n",
       "      <td>0 days 00:18:00</td>\n",
       "    </tr>\n",
       "  </tbody>\n",
       "</table>\n",
       "</div>"
      ],
      "text/plain": [
       "            ride_id rideable_type          started_at            ended_at  \\\n",
       "0  CFA86D4455AA1030  classic_bike 2021-03-16 08:32:00 2021-03-16 08:36:00   \n",
       "1  30D9DC61227D1AF3  classic_bike 2021-03-28 01:26:00 2021-03-28 01:36:00   \n",
       "2  846D87A15682A284  classic_bike 2021-03-11 21:17:00 2021-03-11 21:33:00   \n",
       "3  994D05AA75A168F2  classic_bike 2021-03-11 13:26:00 2021-03-11 13:55:00   \n",
       "4  DF7464FBE92D8308  classic_bike 2021-03-21 09:09:00 2021-03-21 09:27:00   \n",
       "\n",
       "             start_station_name                     end_station_name  \\\n",
       "0  Humboldt Blvd & Armitage Ave              Stave St & Armitage Ave   \n",
       "1  Humboldt Blvd & Armitage Ave  Central Park Ave & Bloomingdale Ave   \n",
       "2         Shields Ave & 28th Pl                 Halsted St & 35th St   \n",
       "3   Winthrop Ave & Lawrence Ave               Broadway & Sheridan Rd   \n",
       "4      Glenwood Ave & Touhy Ave            Chicago Ave & Sheridan Rd   \n",
       "\n",
       "  member_casual  day_of_week start_station_id end_station_id   ride_duration  \n",
       "0        casual            3            15651          13266 0 days 00:04:00  \n",
       "1        casual            1            15651          18017 0 days 00:10:00  \n",
       "2        casual            5            15443          13080 0 days 00:16:00  \n",
       "3        casual            5            13080          13323 0 days 00:29:00  \n",
       "4        casual            1              525              8 0 days 00:18:00  "
      ]
     },
     "execution_count": 7,
     "metadata": {},
     "output_type": "execute_result"
    }
   ],
   "source": [
    "df_merged.head()"
   ]
  },
  {
   "cell_type": "code",
   "execution_count": 9,
   "id": "c7029a58",
   "metadata": {},
   "outputs": [
    {
     "name": "stdout",
     "output_type": "stream",
     "text": [
      "<class 'pandas.core.frame.DataFrame'>\n",
      "RangeIndex: 1048575 entries, 0 to 1048574\n",
      "Data columns (total 11 columns):\n",
      " #   Column              Non-Null Count    Dtype          \n",
      "---  ------              --------------    -----          \n",
      " 0   ride_id             1048575 non-null  object         \n",
      " 1   rideable_type       1048575 non-null  object         \n",
      " 2   started_at          1048575 non-null  datetime64[ns] \n",
      " 3   ended_at            1048575 non-null  datetime64[ns] \n",
      " 4   start_station_name  1048575 non-null  object         \n",
      " 5   end_station_name    1048575 non-null  object         \n",
      " 6   member_casual       1048575 non-null  object         \n",
      " 7   day_of_week         1048575 non-null  int64          \n",
      " 8   start_station_id    1048575 non-null  object         \n",
      " 9   end_station_id      1048575 non-null  object         \n",
      " 10  ride_duration       1048575 non-null  timedelta64[ns]\n",
      "dtypes: datetime64[ns](2), int64(1), object(7), timedelta64[ns](1)\n",
      "memory usage: 88.0+ MB\n"
     ]
    }
   ],
   "source": [
    "df_merged.info()"
   ]
  },
  {
   "cell_type": "code",
   "execution_count": 10,
   "id": "3c46caa8",
   "metadata": {},
   "outputs": [
    {
     "data": {
      "text/plain": [
       "(1048575, 11)"
      ]
     },
     "execution_count": 10,
     "metadata": {},
     "output_type": "execute_result"
    }
   ],
   "source": [
    "df_merged.shape"
   ]
  },
  {
   "cell_type": "code",
   "execution_count": 17,
   "id": "c4b38e57",
   "metadata": {},
   "outputs": [],
   "source": [
    "# filter for negative ride_duraton\n",
    "\n",
    "df_merged.drop(df_merged[df_merged['ended_at'] < df_merged['started_at']].index, inplace=True)\n"
   ]
  },
  {
   "cell_type": "code",
   "execution_count": 18,
   "id": "8657b25d",
   "metadata": {},
   "outputs": [
    {
     "data": {
      "text/plain": [
       "(1048573, 11)"
      ]
     },
     "execution_count": 18,
     "metadata": {},
     "output_type": "execute_result"
    }
   ],
   "source": [
    "df_merged.shape"
   ]
  },
  {
   "cell_type": "code",
   "execution_count": null,
   "id": "e264e53e",
   "metadata": {},
   "outputs": [],
   "source": []
  }
 ],
 "metadata": {
  "kernelspec": {
   "display_name": "Python 3",
   "language": "python",
   "name": "python3"
  },
  "language_info": {
   "codemirror_mode": {
    "name": "ipython",
    "version": 3
   },
   "file_extension": ".py",
   "mimetype": "text/x-python",
   "name": "python",
   "nbconvert_exporter": "python",
   "pygments_lexer": "ipython3",
   "version": "3.7.10"
  }
 },
 "nbformat": 4,
 "nbformat_minor": 5
}
